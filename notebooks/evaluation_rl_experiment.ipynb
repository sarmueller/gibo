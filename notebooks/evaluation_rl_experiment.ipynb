{
 "cells": [
  {
   "cell_type": "code",
   "execution_count": 1,
   "id": "ef8e1119",
   "metadata": {},
   "outputs": [],
   "source": [
    "from typing import Tuple, Dict, Callable, Iterator, Union, Optional, List\n",
    "import os\n",
    "import sys\n",
    "import yaml \n",
    "\n",
    "import numpy as np\n",
    "import torch\n",
    "from torch import Tensor\n",
    "\n",
    "import gym\n",
    "\n",
    "# To import module code.\n",
    "module_path = os.path.abspath(os.path.join('..'))\n",
    "if module_path not in sys.path:\n",
    "    sys.path.append(module_path)\n",
    "\n",
    "from src.environment_api import EnvironmentObjective, manipulate_reward\n",
    "from src.policy_parameterizations import MLP\n",
    "from src.evaluate import (\n",
    "    offline_reward_evaluation,\n",
    "    postprocessing_interpolate_x,\n",
    "    plot_rewards_over_calls,\n",
    ")\n",
    "\n",
    "import matplotlib.pyplot as plt\n",
    "%config Completer.use_jedi = False"
   ]
  },
  {
   "cell_type": "code",
   "execution_count": 2,
   "id": "e85cc5d4",
   "metadata": {},
   "outputs": [],
   "source": [
    "plt.style.use('seaborn-whitegrid')\n",
    "tex_fonts = {\n",
    "    # Use LaTeX to write all text\n",
    "    \"text.usetex\": True,\n",
    "    \"font.family\": \"serif\",\n",
    "    # Use 10pt font in plots, to match 10pt font in document\n",
    "    \"axes.labelsize\": 9,\n",
    "    \"font.size\": 9,\n",
    "    # Make the legend/label fonts a little smaller\n",
    "    \"legend.fontsize\": 8,\n",
    "    \"xtick.labelsize\": 8,\n",
    "    \"ytick.labelsize\": 8\n",
    "}\n",
    "\n",
    "plt.rcParams.update(tex_fonts)"
   ]
  },
  {
   "cell_type": "code",
   "execution_count": 3,
   "id": "ed00dbd0",
   "metadata": {},
   "outputs": [],
   "source": [
    "def plot_rewards_over_calls(\n",
    "    rewards_optimizer: List[torch.tensor],\n",
    "    names_optimizer: List[str],\n",
    "    title: str,\n",
    "    marker: List[str] = [\"o\", \">\"],\n",
    "    steps: int = 100,\n",
    "    markevery: int = 5,\n",
    "    figsize: Tuple[float] = (2.8, 1.7),\n",
    "    path_savefig: Optional[str] = None,\n",
    "):\n",
    "    \"\"\"Generate plot showing rewards over objective calls for multiple optimizer.\n",
    "\n",
    "    Args:\n",
    "        rewards_optimizer: List of torch tensors for every optimizer.\n",
    "        title: Plot title.\n",
    "        marker: Plot marker.\n",
    "        steps: Number which defines the x-th reward that should be plotted.\n",
    "        markevery: Number which defines the x-th reward which should be marked (after steps).\n",
    "        path_savefig: Path where to save the resulting figure.\n",
    "    \"\"\"\n",
    "    plt.figure(figsize=figsize)\n",
    "    for index_optimizer, rewards in enumerate(rewards_optimizer):\n",
    "        max_calls = rewards.shape[-1]\n",
    "        m = torch.mean(rewards, dim=0)[::steps]\n",
    "        std = torch.std(rewards, dim=0)[::steps]\n",
    "        plt.plot(\n",
    "            torch.linspace(0, max_calls, max_calls // steps),\n",
    "            m,\n",
    "            marker=marker[index_optimizer],\n",
    "            markevery=markevery,\n",
    "            markersize=3,\n",
    "            label=names_optimizer[index_optimizer],\n",
    "        )\n",
    "        plt.fill_between(\n",
    "            torch.linspace(0, max_calls, max_calls // steps),\n",
    "            m - std,\n",
    "            m + std,\n",
    "            alpha=0.2,\n",
    "        )\n",
    "    plt.xlabel(\"\\# of evaluations\")\n",
    "    plt.ylabel(\"Average Reward\")\n",
    "    plt.legend(loc=\"lower right\")\n",
    "    plt.title(title)\n",
    "    plt.xlim([0, max_calls])\n",
    "    if path_savefig:\n",
    "        plt.savefig(path_savefig, bbox_inches=\"tight\")"
   ]
  },
  {
   "cell_type": "code",
   "execution_count": 4,
   "id": "e3055daa",
   "metadata": {},
   "outputs": [],
   "source": [
    "def postprocess_data(configs: List[str], postprocess: bool = True):\n",
    "    \n",
    "    method_to_name = {'gibo': 'GIBO', 'rs': 'ARS', 'vbo': 'Vanilla BO'}\n",
    "    list_interpolated_rewards = []\n",
    "    list_names_optimizer = []\n",
    "    \n",
    "    for cfg_str in configs:\n",
    "\n",
    "        with open(cfg_str, 'r') as f:\n",
    "            cfg = yaml.load(f, Loader=yaml.Loader)\n",
    "\n",
    "        directory = '.' + cfg['out_dir']\n",
    "        \n",
    "        if postprocess:\n",
    "\n",
    "            print('Postprocess tracked parameters over optimization procedure.')\n",
    "\n",
    "            # Usecase 1: optimizing policy for a reinforcement learning environment.\n",
    "            mlp = MLP(*cfg['mlp']['layers'], add_bias=cfg['mlp']['add_bias'])\n",
    "            len_params = mlp.len_params\n",
    "\n",
    "            # In evaluation mode manipulation of state and reward is always None.\n",
    "            objective_env = EnvironmentObjective(\n",
    "                env=gym.make(cfg['environment_name']),\n",
    "                policy=mlp,\n",
    "                manipulate_state=None,\n",
    "                manipulate_reward=None,\n",
    "            )\n",
    "\n",
    "            # Load data.\n",
    "            print(f'Load data from {directory}.')\n",
    "            parameters = np.load(\n",
    "                os.path.join(directory, 'parameters.npy'), allow_pickle=True\n",
    "            ).item()\n",
    "            calls = np.load(\n",
    "                os.path.join(directory, 'calls.npy'), allow_pickle=True\n",
    "            ).item()\n",
    "\n",
    "            # Postprocess data (offline evaluation and interpolation).\n",
    "            print('Postprocess data: offline evaluation and interpolation.')\n",
    "            offline_rewards = offline_reward_evaluation(parameters, objective_env)\n",
    "            interpolated_rewards = postprocessing_interpolate_x(\n",
    "                offline_rewards, calls, max_calls=cfg['max_objective_calls']\n",
    "            )\n",
    "\n",
    "            # Save postprocessed data.\n",
    "            print(f'Save postprocessed data in {directory}.')\n",
    "            torch.save(\n",
    "                interpolated_rewards, os.path.join(directory, 'interpolated_rewards.pt')\n",
    "            )\n",
    "            torch.save(offline_rewards, os.path.join(directory, 'offline_rewards.pt'))\n",
    "\n",
    "        else:\n",
    "            interpolated_rewards = torch.load(\n",
    "                os.path.join(directory, 'interpolated_rewards.pt')\n",
    "            )\n",
    "\n",
    "        list_names_optimizer.append(method_to_name[cfg['method']])\n",
    "        list_interpolated_rewards.append(interpolated_rewards)\n",
    "        \n",
    "    return list_names_optimizer, list_interpolated_rewards"
   ]
  },
  {
   "cell_type": "code",
   "execution_count": 7,
   "id": "f401869b",
   "metadata": {},
   "outputs": [],
   "source": [
    "(list_names_optimizer, \n",
    " list_interpolated_rewards) = postprocess_data(configs=['../configs/rl_experiment/cartpole/rs.yaml',\n",
    "                                                        '../configs/rl_experiment/cartpole/gibo.yaml',\n",
    "                                                       ],\n",
    "                                               postprocess = False)"
   ]
  },
  {
   "cell_type": "code",
   "execution_count": 8,
   "id": "8ad9c239",
   "metadata": {},
   "outputs": [
    {
     "data": {
      "image/png": "[encoded data removed]",
      "text/plain": [
       "<Figure size 138.24x85.68 with 1 Axes>"
      ]
     },
     "metadata": {},
     "output_type": "display_data"
    }
   ],
   "source": [
    "plt.rcParams['lines.linewidth'] = 1.\n",
    "plot_rewards_over_calls(\n",
    "        rewards_optimizer=list_interpolated_rewards,\n",
    "        names_optimizer=list_names_optimizer,\n",
    "        title='Cartpole-v1',\n",
    "        marker=['o', '>'],\n",
    "        steps=10,\n",
    "        markevery=1,\n",
    "        figsize = (1.92, 1.19),\n",
    "        path_savefig=None #'../experiments/rl_experiments/cartpole/cartpole_v1.pdf',\n",
    "    )"
   ]
  },
  {
   "cell_type": "code",
   "execution_count": 10,
   "id": "1bde3206",
   "metadata": {},
   "outputs": [],
   "source": [
    "(list_names_optimizer, \n",
    " list_interpolated_rewards) = postprocess_data(configs=['../configs/rl_experiment/swimmer/rs.yaml',\n",
    "                                                        '../configs/rl_experiment/swimmer/gibo.yaml',\n",
    "                                                       ],\n",
    "                                               postprocess = False)"
   ]
  },
  {
   "cell_type": "code",
   "execution_count": 11,
   "id": "23cb3452",
   "metadata": {},
   "outputs": [
    {
     "data": {
      "image/png": "[encoded data removed]",
      "text/plain": [
       "<Figure size 138.24x85.68 with 1 Axes>"
      ]
     },
     "metadata": {},
     "output_type": "display_data"
    }
   ],
   "source": [
    "plt.rcParams['lines.linewidth'] = 1.\n",
    "plot_rewards_over_calls(\n",
    "        rewards_optimizer=list_interpolated_rewards,\n",
    "        names_optimizer=list_names_optimizer,\n",
    "        title='Swimmer-v1',\n",
    "        marker=['o', '>'],\n",
    "        steps=50,\n",
    "        markevery=5,\n",
    "        figsize = (1.92, 1.19),\n",
    "        path_savefig=None #'../experiments/rl_experiments/swimmer/swimmer_v1.pdf',\n",
    "    )"
   ]
  },
  {
   "cell_type": "code",
   "execution_count": 13,
   "id": "8cedde98",
   "metadata": {},
   "outputs": [],
   "source": [
    "(list_names_optimizer, \n",
    " list_interpolated_rewards) = postprocess_data(configs=['../configs/rl_experiment/hopper/rs.yaml',\n",
    "                                                        '../configs/rl_experiment/hopper/gibo.yaml',\n",
    "                                                       ],\n",
    "                                               postprocess = False)"
   ]
  },
  {
   "cell_type": "code",
   "execution_count": 14,
   "id": "f9888de2",
   "metadata": {},
   "outputs": [
    {
     "data": {
      "image/png": "[encoded data removed]",
      "text/plain": [
       "<Figure size 138.24x85.68 with 1 Axes>"
      ]
     },
     "metadata": {},
     "output_type": "display_data"
    }
   ],
   "source": [
    "plt.rcParams['lines.linewidth'] = 1.\n",
    "plot_rewards_over_calls(\n",
    "        rewards_optimizer=list_interpolated_rewards,\n",
    "        names_optimizer=list_names_optimizer,\n",
    "        title='Hopper-v1',\n",
    "        marker=['o', '>'],\n",
    "        steps=200,\n",
    "        markevery=5,\n",
    "        figsize = (1.92, 1.19),\n",
    "        path_savefig=None #'../experiments/rl_experiments/hopper/hopper_v1.pdf',\n",
    "    )"
   ]
  },
  {
   "cell_type": "code",
   "execution_count": null,
   "id": "15201a62",
   "metadata": {},
   "outputs": [],
   "source": []
  }
 ],
 "metadata": {
  "kernelspec": {
   "display_name": "Python [conda env:bga] *",
   "language": "python",
   "name": "conda-env-bga-py"
  },
  "language_info": {
   "codemirror_mode": {
    "name": "ipython",
    "version": 3
   },
   "file_extension": ".py",
   "mimetype": "text/x-python",
   "name": "python",
   "nbconvert_exporter": "python",
   "pygments_lexer": "ipython3",
   "version": "3.8.5"
  }
 },
 "nbformat": 4,
 "nbformat_minor": 5
}
